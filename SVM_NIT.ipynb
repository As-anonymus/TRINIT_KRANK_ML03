{
 "cells": [
  {
   "cell_type": "code",
   "execution_count": 1,
   "id": "3fbd50c9",
   "metadata": {},
   "outputs": [],
   "source": [
    "import pandas as pd   \n",
    "from sklearn.model_selection import train_test_split\n",
    "from sklearn.svm import SVC"
   ]
  },
  {
   "cell_type": "code",
   "execution_count": 2,
   "id": "9bcb4de1",
   "metadata": {},
   "outputs": [],
   "source": [
    "crop = pd.read_csv(r\"C:\\Users\\Aditya Singh\\Downloads\\Crop-Prediction-Django-master\\Crop-Prediction-Django-master\\dataset\\Crop_recommendation.csv\")\n"
   ]
  },
  {
   "cell_type": "code",
   "execution_count": 3,
   "id": "4f4da4be",
   "metadata": {},
   "outputs": [],
   "source": [
    "attr=[\"N\",\"P\",\"K\",\"temperature\",\"humidity\",\"rainfall\",\"label\"]\n",
    "if crop.isna().any().sum() !=0:\n",
    "        for i in range(len(attr)):\n",
    "            crop[atrr[i]].fillna(0.0, inplace = True)"
   ]
  },
  {
   "cell_type": "code",
   "execution_count": 4,
   "id": "1755f326",
   "metadata": {},
   "outputs": [],
   "source": [
    "crop.columns = crop.columns.str.replace(' ', '') "
   ]
  },
  {
   "cell_type": "code",
   "execution_count": 5,
   "id": "4ee82bb6",
   "metadata": {},
   "outputs": [],
   "source": [
    "    features = crop[['N', 'P','K','temperature', 'humidity', 'ph', 'rainfall']]\n"
   ]
  },
  {
   "cell_type": "code",
   "execution_count": 6,
   "id": "e669ee89",
   "metadata": {},
   "outputs": [],
   "source": [
    "target = crop['label']\n"
   ]
  },
  {
   "cell_type": "code",
   "execution_count": 7,
   "id": "0fed5eee",
   "metadata": {},
   "outputs": [],
   "source": [
    "x_train, x_test, y_train, y_test = train_test_split(features,target,test_size = 0.2,random_state =2)\n"
   ]
  },
  {
   "cell_type": "code",
   "execution_count": 8,
   "id": "fbba9a68",
   "metadata": {},
   "outputs": [],
   "source": [
    "SVM = SVC(kernel='linear', C=1)\n"
   ]
  },
  {
   "cell_type": "code",
   "execution_count": 9,
   "id": "ef7be54f",
   "metadata": {},
   "outputs": [
    {
     "data": {
      "text/plain": [
       "SVC(C=1, kernel='linear')"
      ]
     },
     "execution_count": 9,
     "metadata": {},
     "output_type": "execute_result"
    }
   ],
   "source": [
    "SVM.fit(x_train, y_train)\n"
   ]
  },
  {
   "cell_type": "code",
   "execution_count": 11,
   "id": "501a8760",
   "metadata": {},
   "outputs": [
    {
     "name": "stdout",
     "output_type": "stream",
     "text": [
      "Accuracy: 97.73%\n"
     ]
    }
   ],
   "source": [
    "from sklearn.metrics import accuracy_score\n",
    "\n",
    "# use the trained model to make predictions on the test data\n",
    "y_pred = SVM.predict(x_test)\n",
    "\n",
    "# calculate the accuracy of the model\n",
    "accuracy = accuracy_score(y_test, y_pred)\n",
    "print(\"Accuracy: {:.2f}%\".format(accuracy * 100))\n"
   ]
  },
  {
   "cell_type": "code",
   "execution_count": null,
   "id": "5d2a515a",
   "metadata": {},
   "outputs": [],
   "source": []
  }
 ],
 "metadata": {
  "kernelspec": {
   "display_name": "Python 3 (ipykernel)",
   "language": "python",
   "name": "python3"
  },
  "language_info": {
   "codemirror_mode": {
    "name": "ipython",
    "version": 3
   },
   "file_extension": ".py",
   "mimetype": "text/x-python",
   "name": "python",
   "nbconvert_exporter": "python",
   "pygments_lexer": "ipython3",
   "version": "3.9.12"
  }
 },
 "nbformat": 4,
 "nbformat_minor": 5
}
